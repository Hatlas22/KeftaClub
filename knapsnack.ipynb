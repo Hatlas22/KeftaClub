{
 "cells": [
  {
   "cell_type": "code",
   "execution_count": null,
   "metadata": {},
   "outputs": [],
   "source": [
    "def knapsack_dynamic(values, weights, capacity):\n",
    "    n = len(values)\n",
    "    # Initialize a table to store optimal solutions for subproblems\n",
    "    dp = [[0] * (capacity + 1) for _ in range(n + 1)]\n",
    "\n",
    "    # Build the table\n",
    "    for i in range(1, n + 1):\n",
    "        for w in range(1, capacity + 1):\n",
    "            if weights[i - 1] <= w:\n",
    "                dp[i][w] = max(dp[i - 1][w], dp[i - 1][w - weights[i - 1]] + values[i - 1])\n",
    "            else:\n",
    "                dp[i][w] = dp[i - 1][w]\n",
    "\n",
    "    # Backtrack to find which items were added\n",
    "    added_items = []\n",
    "    total_value = dp[n][capacity]\n",
    "    w = capacity\n",
    "    for i in range(n, 0, -1):\n",
    "        if dp[i][w] != dp[i - 1][w]:\n",
    "            added_items.append(i - 1)\n",
    "            w -= weights[i - 1]\n",
    "    #print(dp)\n",
    "    #print(added_items)\n",
    "    return total_value, added_items[::-1], dp[n][capacity]\n",
    "\n",
    "\n",
    "# Example usage:\n",
    "values = [1,2,5,6]\n",
    "weights = [2,3,4,5]\n",
    "capacity = 8\n",
    "print(knapsack_dynamic(values, weights, capacity))\n"
   ]
  }
 ],
 "metadata": {
  "language_info": {
   "name": "python"
  }
 },
 "nbformat": 4,
 "nbformat_minor": 2
}
